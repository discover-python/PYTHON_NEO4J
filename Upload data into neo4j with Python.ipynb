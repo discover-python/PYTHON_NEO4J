{
 "cells": [
  {
   "cell_type": "code",
   "execution_count": 6,
   "id": "informal-certificate",
   "metadata": {},
   "outputs": [
    {
     "name": "stdout",
     "output_type": "stream",
     "text": [
      "   transaction_ID  vendor_number  transaction_amount   transaction_type\n",
      "0               1           2107             1236349  transfer_domestic\n"
     ]
    }
   ],
   "source": [
    "#generate financial transaction \n",
    "\n",
    "import numpy as np\n",
    "import random\n",
    "import pandas as pd\n",
    "\n",
    "#unique transaction id's\n",
    "transaction_id = [i for i in range(1,50001)]\n",
    "\n",
    "#vendor/customer number\n",
    "vendor_number = np.random.randint(low = 1, high = 2500, size = (50000,))\n",
    "\n",
    "#transaction amount\n",
    "transaction_amount = np.random.randint(low = 20, high = 1250000, size = (50000))\n",
    "\n",
    "#transaction type\n",
    "transaction_types = ['cash_withdrawl', 'cash_deposit','transfer_domestic','transfer_international']\n",
    "\n",
    "#generate list of random integers\n",
    "random_integers = [random.randint(0,3) for i in range(0,50000)]\n",
    "transaction_list = [transaction_types[i] for i in random_integers]\n",
    "\n",
    "\n",
    "transaction_data = {\"transaction_ID\": transaction_id,\n",
    "                   \"vendor_number\" : list(vendor_number),\n",
    "                   \"transaction_amount\" : list(transaction_amount),\n",
    "                    \"transaction_type\" : transaction_list,}\n",
    "\n",
    "\n",
    "transaction_DataFrame = pd.DataFrame(transaction_data)\n",
    "\n",
    "print(transaction_DataFrame[:1])\n",
    "\n"
   ]
  },
  {
   "cell_type": "code",
   "execution_count": 31,
   "id": "atmospheric-fleece",
   "metadata": {},
   "outputs": [],
   "source": [
    "######## Import Data into Maria DB (Optional) ##########\n",
    "import mysql.connector\n",
    "import pandas\n",
    "\n",
    "\n",
    "mydb = mysql.connector.connect(\n",
    "  host=\"localhost\",\n",
    "  user=\"test_user\",\n",
    "  password=\"password\",\n",
    "  database = 'neo4j_financial_fraud',\n",
    "  port = '3306'\n",
    ")\n",
    "\n",
    "mycursor = mydb.cursor()\n",
    "\n",
    "insert_statement = \"INSERT into financial_transactions (transaction_id, vendor_number, transaction_amount, transaction_type) values (%s, %s, %s, %s)\"\n",
    "    \n",
    "transaction_list = transaction_DataFrame.values.tolist()\n",
    "\n",
    "for i in transaction_list:\n",
    "    mycursor.execute(insert_statement, i)\n",
    "\n",
    "    \n",
    "mydb.commit()\n",
    "\n",
    "\n"
   ]
  },
  {
   "cell_type": "code",
   "execution_count": 4,
   "id": "concrete-austria",
   "metadata": {},
   "outputs": [],
   "source": [
    "####### import data into neo4j ##### \n",
    "from neo4j import GraphDatabase\n",
    "\n",
    "transaction_list = transaction_DataFrame.values.tolist()\n",
    "\n",
    "transaction_execution_commands = []\n",
    "\n",
    "for i in transaction_list:\n",
    "    neo4j_create_statemenet = \"create (t:Transaction {transaction_id:\" + str(i[0]) +\", vendor_number:  \" + str(i[1]) +\", transaction_amount: \" + str(i[2]) +\", transaction_type: '\" + str(i[3]) + \"'})\"\n",
    "    transaction_execution_commands.append(neo4j_create_statemenet)\n",
    "\n",
    "    \n",
    "def execute_transactions(transaction_execution_commands):\n",
    "    data_base_connection = GraphDatabase.driver(uri = \"bolt://localhost:7687\", auth=(\"neo4j\", \"password\"))\n",
    "    session = data_base_connection.session()    \n",
    "    for i in transaction_execution_commands:\n",
    "        session.run(i)\n",
    "\n",
    "        \n",
    "execute_transactions(transaction_execution_commands)"
   ]
  },
  {
   "cell_type": "code",
   "execution_count": null,
   "id": "ancient-relay",
   "metadata": {},
   "outputs": [],
   "source": []
  }
 ],
 "metadata": {
  "kernelspec": {
   "display_name": "Python 3",
   "language": "python",
   "name": "python3"
  },
  "language_info": {
   "codemirror_mode": {
    "name": "ipython",
    "version": 3
   },
   "file_extension": ".py",
   "mimetype": "text/x-python",
   "name": "python",
   "nbconvert_exporter": "python",
   "pygments_lexer": "ipython3",
   "version": "3.8.5"
  }
 },
 "nbformat": 4,
 "nbformat_minor": 5
}
