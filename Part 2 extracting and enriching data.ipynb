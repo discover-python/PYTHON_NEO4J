{
 "cells": [
  {
   "cell_type": "code",
   "execution_count": 4,
   "id": "emotional-stocks",
   "metadata": {},
   "outputs": [
    {
     "name": "stdout",
     "output_type": "stream",
     "text": [
      "['cash_deposit', 'cash_withdrawl', 'transfer_international', 'transfer_domestic']\n"
     ]
    }
   ],
   "source": [
    "##### Return values from Neo4j to be used as inputs to next function\n",
    "\n",
    "from neo4j import GraphDatabase\n",
    "\n",
    "unique_transaction_types = [\"match (t:Transaction) return distinct t.transaction_type\"]\n",
    "\n",
    "def execute_transactions(transaction_execution_commands, return_result = False):\n",
    "    data_base_connection = GraphDatabase.driver(uri = \"bolt://localhost:7687\", auth=(\"neo4j\", \"password\"))\n",
    "    session = data_base_connection.session()\n",
    "    return_list = []\n",
    "    \n",
    "    for i in transaction_execution_commands:\n",
    "        transaction_result = session.run(i)\n",
    "        return_list = [j[0] for j in transaction_result]\n",
    "    \n",
    "    if return_result:\n",
    "        return return_list\n",
    "\n",
    "        \n",
    "unique_transaction_results = execute_transactions(unique_transaction_types, True)\n",
    "print(unique_transaction_results)\n"
   ]
  },
  {
   "cell_type": "code",
   "execution_count": 7,
   "id": "satellite-connection",
   "metadata": {},
   "outputs": [
    {
     "name": "stdout",
     "output_type": "stream",
     "text": [
      "[\"match (t:Transaction) where t.transaction_type = 'cash_deposit' set t :cash_deposit\", \"match (t:Transaction) where t.transaction_type = 'cash_withdrawl' set t :cash_withdrawl\", \"match (t:Transaction) where t.transaction_type = 'transfer_international' set t :transfer_international\", \"match (t:Transaction) where t.transaction_type = 'transfer_domestic' set t :transfer_domestic\"]\n"
     ]
    }
   ],
   "source": [
    "#Create custom labels for each node representing its transaction type\n",
    "\n",
    "create_labels_commands = []\n",
    "\n",
    "for i in unique_transaction_results:\n",
    "    create_labels_commands.append(\"match (t:Transaction) where t.transaction_type = '\" + i + \"' set t :\" + i )\n",
    "    \n",
    "print(create_labels_commands)\n",
    "\n",
    "\n",
    "execute_transactions(create_labels_commands)\n"
   ]
  },
  {
   "cell_type": "code",
   "execution_count": null,
   "id": "middle-queens",
   "metadata": {},
   "outputs": [],
   "source": []
  }
 ],
 "metadata": {
  "kernelspec": {
   "display_name": "Python 3",
   "language": "python",
   "name": "python3"
  },
  "language_info": {
   "codemirror_mode": {
    "name": "ipython",
    "version": 3
   },
   "file_extension": ".py",
   "mimetype": "text/x-python",
   "name": "python",
   "nbconvert_exporter": "python",
   "pygments_lexer": "ipython3",
   "version": "3.8.5"
  }
 },
 "nbformat": 4,
 "nbformat_minor": 5
}
